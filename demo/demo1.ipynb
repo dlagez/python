{
 "cells": [
  {
   "cell_type": "markdown",
   "metadata": {},
   "source": [
    "画柱状图"
   ]
  },
  {
   "cell_type": "code",
   "execution_count": 4,
   "metadata": {},
   "outputs": [
    {
     "name": "stdout",
     "output_type": "stream",
     "text": [
      "Column names are methods,Acc,Pre,Rec,F1,G,Mcc\n",
      "['KFCM', '81.25', '97.3', '64.29', '77.42', '79.46', '66.44']\n",
      "['D-KFCM', '86.61', '91.84', '80.36', '85.71', '86.38', '73.79']\n",
      "['RU', '76.78', '94.12', '57.14', '71.11', '74.23', '58.26']\n",
      "['NearMiss', '75.89', '83.72', '64.29', '72.73', '75', '53.24']\n",
      "['RO', '70.54', '89.66', '46.43', '61.18', '66.29', '46.88']\n",
      "['SMOTE', '67.86', '88.46', '41.07', '56.1', '62.35', '42.3']\n",
      "['Border-line', '72.32', '90.32', '50', '64.37', '68.79', '49.89']\n",
      "['ADASYN', '67.86', '88.46', '41.07', '56.1', '62.35', '42.3']\n",
      "['SMOTE-ENN', '69.64', '89.29', '44.64', '59.52', '65', '45.36']\n",
      "['SMOTE-Tomek', '67.86', '88.46', '41.07', '56.1', '62.35', '42.3']\n",
      "Processed 11 lines.\n"
     ]
    }
   ],
   "source": [
    "import csv\n",
    "import numpy as np\n",
    "import matplotlib.pyplot as plt\n",
    "import pandas as pd\n",
    "\n",
    "file_path = '/Users/roczhang/Library/CloudStorage/OneDrive-个人/data/demo/data1.csv'\n",
    "with open(file_path) as csv_file:\n",
    "    csv_reader = csv.reader(csv_file, delimiter=',')\n",
    "    line_count = 0\n",
    "    for row in csv_reader:\n",
    "        if line_count == 0:\n",
    "            print(f'Column names are {\",\".join(row)}')\n",
    "            line_count += 1\n",
    "        else:\n",
    "            print(row)\n",
    "            line_count += 1\n",
    "    print(f'Processed {line_count} lines.')"
   ]
  },
  {
   "cell_type": "code",
   "execution_count": 3,
   "metadata": {},
   "outputs": [
    {
     "data": {
      "image/png": "[encoded data removed]",
      "text/plain": [
       "<Figure size 432x288 with 1 Axes>"
      ]
     },
     "metadata": {
      "needs_background": "light"
     },
     "output_type": "display_data"
    }
   ],
   "source": [
    "import matplotlib\n",
    "import matplotlib.pyplot as plt\n",
    "import numpy as np\n",
    "\n",
    "\n",
    "labels = ['G1', 'G2', 'G3', 'G4', 'G5']\n",
    "men_means = [20, 34, 30, 35, 27]\n",
    "women_means = [25, 32, 34, 20, 25]\n",
    "\n",
    "x = np.arange(len(labels))  # the label locations\n",
    "width = 0.35  # the width of the bars\n",
    "\n",
    "fig, ax = plt.subplots()\n",
    "rects1 = ax.bar(x - width/2, men_means, width, label='Men')\n",
    "rects2 = ax.bar(x + width/2, women_means, width, label='Women')\n",
    "\n",
    "# Add some text for labels, title and custom x-axis tick labels, etc.\n",
    "ax.set_ylabel('Scores')\n",
    "ax.set_title('Scores by group and gender')\n",
    "ax.set_xticks(x)\n",
    "ax.set_xticklabels(labels)\n",
    "ax.legend()\n",
    "\n",
    "\n",
    "def autolabel(rects):\n",
    "    \"\"\"Attach a text label above each bar in *rects*, displaying its height.\"\"\"\n",
    "    for rect in rects:\n",
    "        height = rect.get_height()\n",
    "        ax.annotate('{}'.format(height),\n",
    "                    xy=(rect.get_x() + rect.get_width() / 2, height),\n",
    "                    xytext=(0, 3),  # 3 points vertical offset\n",
    "                    textcoords=\"offset points\",\n",
    "                    ha='center', va='bottom')\n",
    "\n",
    "\n",
    "autolabel(rects1)\n",
    "autolabel(rects2)\n",
    "\n",
    "fig.tight_layout()\n",
    "\n",
    "plt.show()"
   ]
  },
  {
   "cell_type": "code",
   "execution_count": 22,
   "metadata": {},
   "outputs": [
    {
     "name": "stderr",
     "output_type": "stream",
     "text": [
      "/var/folders/vg/ztjcd6yj2m15fn9fdbz7n88r0000gn/T/ipykernel_19310/3388787273.py:10: UserWarning: FixedFormatter should only be used together with FixedLocator\n",
      "  ax.set_xticklabels(labels, rotation=75)\n"
     ]
    },
    {
     "data": {
      "image/png": "[encoded data removed]",
      "text/plain": [
       "<Figure size 432x288 with 1 Axes>"
      ]
     },
     "metadata": {
      "needs_background": "light"
     },
     "output_type": "display_data"
    }
   ],
   "source": [
    "data = pd.read_csv(file_path)\n",
    "rec = data['Rec'].tolist()\n",
    "\n",
    "fig, ax = plt.subplots()\n",
    "rects = ax.bar([50, 100, 150, 200, 300, 350, 400, 450, 550, 600], rec, 40, label='data1')\n",
    "labels = ['KFCM', 'D-KFCM', 'RU', 'NearMiss', 'RO', 'SMOTE', 'Border-line', 'ADASYN', 'SMOTE-ENN', 'SMOTE-Tomek']\n",
    "\n",
    "ax.set_ylabel('Rec')\n",
    "ax.set_title('Rec in different methods')\n",
    "ax.set_xticklabels(labels, rotation=75)\n",
    "ax.legend()\n",
    "\n",
    "def autolabel(rects):\n",
    "    for rect in rects:\n",
    "        height = rect.get_height()\n",
    "        ax.annotate('{}'.format(height),\n",
    "                    xy=(rect.get_x() + rect.get_width() / 2, height),\n",
    "                    xytext=(0, 3),  # 3 points vertical offset\n",
    "                    textcoords=\"offset points\",\n",
    "                    ha='center', va='bottom')\n",
    "autolabel(rects)\n",
    "\n",
    "\n",
    "\n",
    "plt.show()"
   ]
  },
  {
   "cell_type": "markdown",
   "metadata": {},
   "source": []
  },
  {
   "cell_type": "code",
   "execution_count": 21,
   "metadata": {},
   "outputs": [
    {
     "data": {
      "text/plain": [
       "['KFCM',\n",
       " 'D-KFCM',\n",
       " 'RU',\n",
       " 'NearMiss',\n",
       " 'RO',\n",
       " 'SMOTE',\n",
       " 'Border-line',\n",
       " 'ADASYN',\n",
       " 'SMOTE-ENN',\n",
       " 'SMOTE-Tomek']"
      ]
     },
     "execution_count": 21,
     "metadata": {},
     "output_type": "execute_result"
    }
   ],
   "source": [
    "labels"
   ]
  },
  {
   "cell_type": "code",
   "execution_count": null,
   "metadata": {},
   "outputs": [],
   "source": []
  }
 ],
 "metadata": {
  "kernelspec": {
   "display_name": "Python 3.8.12 ('pytorch')",
   "language": "python",
   "name": "python3"
  },
  "language_info": {
   "codemirror_mode": {
    "name": "ipython",
    "version": 3
   },
   "file_extension": ".py",
   "mimetype": "text/x-python",
   "name": "python",
   "nbconvert_exporter": "python",
   "pygments_lexer": "ipython3",
   "version": "3.8.12"
  },
  "orig_nbformat": 4,
  "vscode": {
   "interpreter": {
    "hash": "9ac353b6dc525f597f31dd0f84bc2a49bf9f69cebc5832cc01d00c8909322f74"
   }
  }
 },
 "nbformat": 4,
 "nbformat_minor": 2
}
